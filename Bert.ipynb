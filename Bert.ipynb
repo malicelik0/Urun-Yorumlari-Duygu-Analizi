{
 "cells": [
  {
   "cell_type": "code",
   "execution_count": 2,
   "id": "e506f139-d78a-4620-aa33-b876569c8f92",
   "metadata": {},
   "outputs": [],
   "source": [
    "from transformers import AutoTokenizer, AutoModelForSequenceClassification\n",
    "import torch\n",
    "import re"
   ]
  },
  {
   "cell_type": "code",
   "execution_count": 3,
   "id": "a0d7b0b7-1227-4b13-a90b-344d587bfce6",
   "metadata": {},
   "outputs": [
    {
     "data": {
      "application/json": {
       "ascii": false,
       "bar_format": null,
       "colour": null,
       "elapsed": 0.01000070571899414,
       "initial": 0,
       "n": 0,
       "ncols": null,
       "nrows": 29,
       "postfix": null,
       "prefix": "Downloading",
       "rate": null,
       "total": 39,
       "unit": "B",
       "unit_divisor": 1000,
       "unit_scale": true
      },
      "application/vnd.jupyter.widget-view+json": {
       "model_id": "2a2a060b6cd246bfa7aa4c0b31da3301",
       "version_major": 2,
       "version_minor": 0
      },
      "text/plain": [
       "Downloading:   0%|          | 0.00/39.0 [00:00<?, ?B/s]"
      ]
     },
     "metadata": {},
     "output_type": "display_data"
    },
    {
     "data": {
      "application/json": {
       "ascii": false,
       "bar_format": null,
       "colour": null,
       "elapsed": 0.007999181747436523,
       "initial": 0,
       "n": 0,
       "ncols": null,
       "nrows": 29,
       "postfix": null,
       "prefix": "Downloading",
       "rate": null,
       "total": 953,
       "unit": "B",
       "unit_divisor": 1000,
       "unit_scale": true
      },
      "application/vnd.jupyter.widget-view+json": {
       "model_id": "eec5e138d1b741d4808adeadf26b5a99",
       "version_major": 2,
       "version_minor": 0
      },
      "text/plain": [
       "Downloading:   0%|          | 0.00/953 [00:00<?, ?B/s]"
      ]
     },
     "metadata": {},
     "output_type": "display_data"
    },
    {
     "data": {
      "application/json": {
       "ascii": false,
       "bar_format": null,
       "colour": null,
       "elapsed": 0.006543874740600586,
       "initial": 0,
       "n": 0,
       "ncols": null,
       "nrows": 29,
       "postfix": null,
       "prefix": "Downloading",
       "rate": null,
       "total": 871891,
       "unit": "B",
       "unit_divisor": 1000,
       "unit_scale": true
      },
      "application/vnd.jupyter.widget-view+json": {
       "model_id": "ef34aa9bf84c4246bb3a86e3bb5e7e25",
       "version_major": 2,
       "version_minor": 0
      },
      "text/plain": [
       "Downloading:   0%|          | 0.00/872k [00:00<?, ?B/s]"
      ]
     },
     "metadata": {},
     "output_type": "display_data"
    },
    {
     "data": {
      "application/json": {
       "ascii": false,
       "bar_format": null,
       "colour": null,
       "elapsed": 0.007870912551879883,
       "initial": 0,
       "n": 0,
       "ncols": null,
       "nrows": 29,
       "postfix": null,
       "prefix": "Downloading",
       "rate": null,
       "total": 112,
       "unit": "B",
       "unit_divisor": 1000,
       "unit_scale": true
      },
      "application/vnd.jupyter.widget-view+json": {
       "model_id": "4f7be6595545428d9b66dc681d6085e3",
       "version_major": 2,
       "version_minor": 0
      },
      "text/plain": [
       "Downloading:   0%|          | 0.00/112 [00:00<?, ?B/s]"
      ]
     },
     "metadata": {},
     "output_type": "display_data"
    },
    {
     "data": {
      "application/json": {
       "ascii": false,
       "bar_format": null,
       "colour": null,
       "elapsed": 0.007000446319580078,
       "initial": 0,
       "n": 0,
       "ncols": null,
       "nrows": 29,
       "postfix": null,
       "prefix": "Downloading",
       "rate": null,
       "total": 669491321,
       "unit": "B",
       "unit_divisor": 1000,
       "unit_scale": true
      },
      "application/vnd.jupyter.widget-view+json": {
       "model_id": "e8a07d0e7c9544d7a1fd338dc46fe83b",
       "version_major": 2,
       "version_minor": 0
      },
      "text/plain": [
       "Downloading:   0%|          | 0.00/669M [00:00<?, ?B/s]"
      ]
     },
     "metadata": {},
     "output_type": "display_data"
    },
    {
     "name": "stderr",
     "output_type": "stream",
     "text": [
      "C:\\Users\\malic\\AppData\\Roaming\\Python\\Python310\\site-packages\\torch\\serialization.py:953: UserWarning: Failed to initialize NumPy: module compiled against API version 0x10 but this version of numpy is 0xf (Triggered internally at ..\\torch\\csrc\\utils\\tensor_numpy.cpp:77.)\n",
      "  obj = cast(Storage, torch.UntypedStorage(nbytes))\n"
     ]
    }
   ],
   "source": [
    "tokenizer = AutoTokenizer.from_pretrained('nlptown/bert-base-multilingual-uncased-sentiment')\n",
    "\n",
    "model = AutoModelForSequenceClassification.from_pretrained('nlptown/bert-base-multilingual-uncased-sentiment')"
   ]
  },
  {
   "cell_type": "code",
   "execution_count": 60,
   "id": "9ad9bae9-787b-41e1-ac8b-dfd63d496e74",
   "metadata": {},
   "outputs": [],
   "source": [
    "tokens = tokenizer.encode('Fully satisfied take it now after a month from the purchase The product is really good in the original box with battery charger and transparent covers included Absence of headphones By turning on it you can immediately notice its good quality excellent joke and speed in performance The quality of the camera is good obviously not excellent  but for this price it is fine is perfect In the whole an excellent product purchased following reviews of very satisfied friends of the brand For this I purchased two one black and one blue shaded white for my parents Excellent quality and priceFully satisfied take it now after a month from the purchase The product is really good in the original box with battery charger and transparent covers included Absence of headphones By turning on it you can immediately notice its good quality excellent joke and speed in performance The quality of the camera is good obviously not excellent  but for this price it is fine is perfect In the whole an excellent product purchased following reviews of very satisfied friends of the brand For this I purchased two one black and one blue shaded white for my parents Excellent quality and price', return_tensors='pt')"
   ]
  },
  {
   "cell_type": "code",
   "execution_count": 61,
   "id": "f9c36cf1-5a6b-42fc-bc77-211f243b082a",
   "metadata": {},
   "outputs": [],
   "source": [
    "result = model(tokens)"
   ]
  },
  {
   "cell_type": "code",
   "execution_count": 62,
   "id": "d4465471-74f8-430a-a67c-6c11d9916d44",
   "metadata": {},
   "outputs": [
    {
     "data": {
      "text/plain": [
       "tensor([[-1.6389, -1.1610, -0.2073,  1.1566,  1.4836]],\n",
       "       grad_fn=<AddmmBackward0>)"
      ]
     },
     "execution_count": 62,
     "metadata": {},
     "output_type": "execute_result"
    }
   ],
   "source": [
    "result.logits"
   ]
  },
  {
   "cell_type": "code",
   "execution_count": 59,
   "id": "8587d24e-4693-4c86-890f-cf2bcd6e31bf",
   "metadata": {},
   "outputs": [
    {
     "data": {
      "text/plain": [
       "5"
      ]
     },
     "execution_count": 63,
     "metadata": {},
     "output_type": "execute_result"
    }
   ],
   "source": [
    "int(torch.argmax(result.logits))+1"
   ]
  },
  {
   "cell_type": "code",
   "execution_count": 9,
   "id": "8f0e63aa-5aaf-4434-8e73-1f34b47a757f",
   "metadata": {},
   "outputs": [],
   "source": [
    "import numpy as np\n",
    "import pandas as pd"
   ]
  },
  {
   "cell_type": "code",
   "execution_count": 10,
   "id": "e6883de0-845d-4343-ab1e-9720cba1af2c",
   "metadata": {},
   "outputs": [],
   "source": [
    "a=pd.read_excel(\"removed3.xlsx\")"
   ]
  },
  {
   "cell_type": "code",
   "execution_count": 55,
   "id": "1fcae10e-dbde-4673-a8ab-be9a6ac664ca",
   "metadata": {},
   "outputs": [
    {
     "data": {
      "text/plain": [
       "'I loved the cell phone Hes even better than I imagined He launched it ahead of time but he came wrong I bought it blue but it came white I bought with my cell phone an anti shock case but came ordinary capinha also bought flexible gel film but did not come'"
      ]
     },
     "execution_count": 55,
     "metadata": {},
     "output_type": "execute_result"
    }
   ],
   "source": [
    "a['Reviews'].iloc[12050]"
   ]
  },
  {
   "cell_type": "code",
   "execution_count": 14,
   "id": "f3fed834-ad0e-49b6-8cd6-50e89d699d74",
   "metadata": {},
   "outputs": [],
   "source": [
    "def sentiment_score(review):\n",
    "    tokens = tokenizer.encode(review, return_tensors='pt')\n",
    "    result = model(tokens)\n",
    "    return int(torch.argmax(result.logits))+1"
   ]
  },
  {
   "cell_type": "code",
   "execution_count": 15,
   "id": "04425312-cec5-403f-a0e6-833b1bbfa58f",
   "metadata": {},
   "outputs": [
    {
     "data": {
      "text/plain": [
       "3"
      ]
     },
     "execution_count": 15,
     "metadata": {},
     "output_type": "execute_result"
    }
   ],
   "source": [
    "sentiment_score(a)"
   ]
  },
  {
   "cell_type": "code",
   "execution_count": 76,
   "id": "5d23beec-6738-438c-9667-33e7b37a47e2",
   "metadata": {},
   "outputs": [],
   "source": [
    "a = a.drop(columns='sentiment')"
   ]
  },
  {
   "cell_type": "code",
   "execution_count": 77,
   "id": "1c5addef-e0a0-4127-8961-021401fd8a09",
   "metadata": {},
   "outputs": [
    {
     "data": {
      "text/plain": [
       "Index(['rating', 'Reviews'], dtype='object')"
      ]
     },
     "execution_count": 77,
     "metadata": {},
     "output_type": "execute_result"
    }
   ],
   "source": [
    "a.columns"
   ]
  },
  {
   "cell_type": "code",
   "execution_count": 78,
   "id": "3fb40e31-7e89-4cbd-acd8-b171570e3276",
   "metadata": {},
   "outputs": [],
   "source": [
    "a['sentiment'] = a.loc[a['Reviews'].notna(), 'Reviews'].apply(lambda x: sentiment_score(x[:512]))"
   ]
  },
  {
   "cell_type": "code",
   "execution_count": 79,
   "id": "485d53cb-19dc-4220-b69a-3929df026f3c",
   "metadata": {},
   "outputs": [
    {
     "data": {
      "text/html": [
       "<div>\n",
       "<style scoped>\n",
       "    .dataframe tbody tr th:only-of-type {\n",
       "        vertical-align: middle;\n",
       "    }\n",
       "\n",
       "    .dataframe tbody tr th {\n",
       "        vertical-align: top;\n",
       "    }\n",
       "\n",
       "    .dataframe thead th {\n",
       "        text-align: right;\n",
       "    }\n",
       "</style>\n",
       "<table border=\"1\" class=\"dataframe\">\n",
       "  <thead>\n",
       "    <tr style=\"text-align: right;\">\n",
       "      <th></th>\n",
       "      <th>rating</th>\n",
       "      <th>Reviews</th>\n",
       "      <th>sentiment</th>\n",
       "    </tr>\n",
       "  </thead>\n",
       "  <tbody>\n",
       "    <tr>\n",
       "      <th>0</th>\n",
       "      <td>5</td>\n",
       "      <td>Very high quality and beautiful Amazon is more...</td>\n",
       "      <td>5.0</td>\n",
       "    </tr>\n",
       "    <tr>\n",
       "      <th>1</th>\n",
       "      <td>5</td>\n",
       "      <td>The product is really excellent although it re...</td>\n",
       "      <td>4.0</td>\n",
       "    </tr>\n",
       "    <tr>\n",
       "      <th>2</th>\n",
       "      <td>5</td>\n",
       "      <td>Price is a very good choice in terms of perfor...</td>\n",
       "      <td>5.0</td>\n",
       "    </tr>\n",
       "    <tr>\n",
       "      <th>3</th>\n",
       "      <td>5</td>\n",
       "      <td>Thanks to Amazon Turkey before the product I g...</td>\n",
       "      <td>5.0</td>\n",
       "    </tr>\n",
       "    <tr>\n",
       "      <th>4</th>\n",
       "      <td>5</td>\n",
       "      <td>I got it very quickly It was very well preserv...</td>\n",
       "      <td>5.0</td>\n",
       "    </tr>\n",
       "    <tr>\n",
       "      <th>...</th>\n",
       "      <td>...</td>\n",
       "      <td>...</td>\n",
       "      <td>...</td>\n",
       "    </tr>\n",
       "    <tr>\n",
       "      <th>13074</th>\n",
       "      <td>4</td>\n",
       "      <td>Good price and quality</td>\n",
       "      <td>4.0</td>\n",
       "    </tr>\n",
       "    <tr>\n",
       "      <th>13075</th>\n",
       "      <td>5</td>\n",
       "      <td>It is an excellent product It arrived complete...</td>\n",
       "      <td>5.0</td>\n",
       "    </tr>\n",
       "    <tr>\n",
       "      <th>13076</th>\n",
       "      <td>5</td>\n",
       "      <td>Team fully sealed and in perfect condition rec...</td>\n",
       "      <td>5.0</td>\n",
       "    </tr>\n",
       "    <tr>\n",
       "      <th>13077</th>\n",
       "      <td>5</td>\n",
       "      <td>I loved it better cost benefit</td>\n",
       "      <td>5.0</td>\n",
       "    </tr>\n",
       "    <tr>\n",
       "      <th>13078</th>\n",
       "      <td>5</td>\n",
       "      <td>It is a wonderful device the photos are very v...</td>\n",
       "      <td>5.0</td>\n",
       "    </tr>\n",
       "  </tbody>\n",
       "</table>\n",
       "<p>13079 rows × 3 columns</p>\n",
       "</div>"
      ],
      "text/plain": [
       "       rating                                            Reviews  sentiment\n",
       "0           5  Very high quality and beautiful Amazon is more...        5.0\n",
       "1           5  The product is really excellent although it re...        4.0\n",
       "2           5  Price is a very good choice in terms of perfor...        5.0\n",
       "3           5  Thanks to Amazon Turkey before the product I g...        5.0\n",
       "4           5  I got it very quickly It was very well preserv...        5.0\n",
       "...       ...                                                ...        ...\n",
       "13074       4                             Good price and quality        4.0\n",
       "13075       5  It is an excellent product It arrived complete...        5.0\n",
       "13076       5  Team fully sealed and in perfect condition rec...        5.0\n",
       "13077       5                     I loved it better cost benefit        5.0\n",
       "13078       5  It is a wonderful device the photos are very v...        5.0\n",
       "\n",
       "[13079 rows x 3 columns]"
      ]
     },
     "execution_count": 79,
     "metadata": {},
     "output_type": "execute_result"
    }
   ],
   "source": [
    "a"
   ]
  },
  {
   "cell_type": "code",
   "execution_count": 80,
   "id": "787a8b3b-5218-4a31-a44c-ffeb6dee7cec",
   "metadata": {},
   "outputs": [],
   "source": [
    "a.to_excel(\"bert1.xlsx\")"
   ]
  },
  {
   "cell_type": "code",
   "execution_count": 81,
   "id": "6f04c725-c6e7-4c3f-8cc6-38e1c2c5fa55",
   "metadata": {},
   "outputs": [
    {
     "data": {
      "text/plain": [
       "5.0    7462\n",
       "4.0    3327\n",
       "3.0    1135\n",
       "1.0     625\n",
       "2.0     528\n",
       "Name: sentiment, dtype: int64"
      ]
     },
     "execution_count": 81,
     "metadata": {},
     "output_type": "execute_result"
    }
   ],
   "source": [
    "a['sentiment'].value_counts()"
   ]
  },
  {
   "cell_type": "code",
   "execution_count": 82,
   "id": "6da090c0-9d13-40be-a4a3-e28852df231d",
   "metadata": {},
   "outputs": [
    {
     "data": {
      "text/plain": [
       "<AxesSubplot: >"
      ]
     },
     "execution_count": 82,
     "metadata": {},
     "output_type": "execute_result"
    },
    {
     "data": {
      "image/png": "[encoded data removed]",
      "text/plain": [
       "<Figure size 640x480 with 1 Axes>"
      ]
     },
     "metadata": {},
     "output_type": "display_data"
    }
   ],
   "source": [
    "a[\"sentiment\"].value_counts().plot(kind=\"bar\")"
   ]
  },
  {
   "cell_type": "code",
   "execution_count": null,
   "id": "7bd89b86-9af5-425f-b605-5ead9eaeb846",
   "metadata": {},
   "outputs": [],
   "source": []
  }
 ],
 "metadata": {
  "kernelspec": {
   "display_name": "Python 3 (ipykernel)",
   "language": "python",
   "name": "python3"
  },
  "language_info": {
   "codemirror_mode": {
    "name": "ipython",
    "version": 3
   },
   "file_extension": ".py",
   "mimetype": "text/x-python",
   "name": "python",
   "nbconvert_exporter": "python",
   "pygments_lexer": "ipython3",
   "version": "3.10.4"
  }
 },
 "nbformat": 4,
 "nbformat_minor": 5
}
