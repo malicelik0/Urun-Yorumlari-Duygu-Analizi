{
 "cells": [
  {
   "cell_type": "code",
   "execution_count": 1,
   "id": "15ff03b0-6316-4365-b207-7519bf45ede8",
   "metadata": {},
   "outputs": [],
   "source": [
    "import pandas as pd"
   ]
  },
  {
   "cell_type": "code",
   "execution_count": 21,
   "id": "c63f7d75-e083-443a-b158-abf91bebfccd",
   "metadata": {},
   "outputs": [],
   "source": [
    "df=pd.read_excel(\"datas1.xlsx\")"
   ]
  },
  {
   "cell_type": "code",
   "execution_count": 22,
   "id": "dbc40ef2-24d0-4fca-bd42-c14f18b0d173",
   "metadata": {},
   "outputs": [
    {
     "name": "stdout",
     "output_type": "stream",
     "text": [
      "(13079, 2)\n"
     ]
    },
    {
     "data": {
      "text/html": [
       "<div>\n",
       "<style scoped>\n",
       "    .dataframe tbody tr th:only-of-type {\n",
       "        vertical-align: middle;\n",
       "    }\n",
       "\n",
       "    .dataframe tbody tr th {\n",
       "        vertical-align: top;\n",
       "    }\n",
       "\n",
       "    .dataframe thead th {\n",
       "        text-align: right;\n",
       "    }\n",
       "</style>\n",
       "<table border=\"1\" class=\"dataframe\">\n",
       "  <thead>\n",
       "    <tr style=\"text-align: right;\">\n",
       "      <th></th>\n",
       "      <th>Reviews</th>\n",
       "      <th>sentiment</th>\n",
       "    </tr>\n",
       "  </thead>\n",
       "  <tbody>\n",
       "    <tr>\n",
       "      <th>0</th>\n",
       "      <td>Very high quality and beautiful Amazon is more...</td>\n",
       "      <td>positive</td>\n",
       "    </tr>\n",
       "    <tr>\n",
       "      <th>1</th>\n",
       "      <td>The product is really excellent although it re...</td>\n",
       "      <td>positive</td>\n",
       "    </tr>\n",
       "    <tr>\n",
       "      <th>2</th>\n",
       "      <td>Price is a very good choice in terms of perfor...</td>\n",
       "      <td>positive</td>\n",
       "    </tr>\n",
       "    <tr>\n",
       "      <th>3</th>\n",
       "      <td>Thanks to Amazon Turkey before the product I g...</td>\n",
       "      <td>positive</td>\n",
       "    </tr>\n",
       "    <tr>\n",
       "      <th>4</th>\n",
       "      <td>I got it very quickly It was very well preserv...</td>\n",
       "      <td>positive</td>\n",
       "    </tr>\n",
       "  </tbody>\n",
       "</table>\n",
       "</div>"
      ],
      "text/plain": [
       "                                             Reviews sentiment\n",
       "0  Very high quality and beautiful Amazon is more...  positive\n",
       "1  The product is really excellent although it re...  positive\n",
       "2  Price is a very good choice in terms of perfor...  positive\n",
       "3  Thanks to Amazon Turkey before the product I g...  positive\n",
       "4  I got it very quickly It was very well preserv...  positive"
      ]
     },
     "execution_count": 22,
     "metadata": {},
     "output_type": "execute_result"
    }
   ],
   "source": [
    "review_df = df[['Reviews','sentiment']]\n",
    "\n",
    "print(review_df.shape)\n",
    "review_df.head(5)"
   ]
  },
  {
   "cell_type": "code",
   "execution_count": 23,
   "id": "f67a0427-32ed-441f-b395-cb25b101bdf3",
   "metadata": {},
   "outputs": [
    {
     "data": {
      "text/plain": [
       "Index(['Unnamed: 0', 'rating', 'Reviews', 'sentiment'], dtype='object')"
      ]
     },
     "execution_count": 23,
     "metadata": {},
     "output_type": "execute_result"
    }
   ],
   "source": [
    "df. columns"
   ]
  },
  {
   "cell_type": "code",
   "execution_count": 25,
   "id": "9268e129-5006-4052-b3fd-5c91776f0e56",
   "metadata": {},
   "outputs": [
    {
     "name": "stdout",
     "output_type": "stream",
     "text": [
      "(12229, 2)\n"
     ]
    },
    {
     "data": {
      "text/html": [
       "<div>\n",
       "<style scoped>\n",
       "    .dataframe tbody tr th:only-of-type {\n",
       "        vertical-align: middle;\n",
       "    }\n",
       "\n",
       "    .dataframe tbody tr th {\n",
       "        vertical-align: top;\n",
       "    }\n",
       "\n",
       "    .dataframe thead th {\n",
       "        text-align: right;\n",
       "    }\n",
       "</style>\n",
       "<table border=\"1\" class=\"dataframe\">\n",
       "  <thead>\n",
       "    <tr style=\"text-align: right;\">\n",
       "      <th></th>\n",
       "      <th>Reviews</th>\n",
       "      <th>sentiment</th>\n",
       "    </tr>\n",
       "  </thead>\n",
       "  <tbody>\n",
       "    <tr>\n",
       "      <th>0</th>\n",
       "      <td>Very high quality and beautiful Amazon is more...</td>\n",
       "      <td>positive</td>\n",
       "    </tr>\n",
       "    <tr>\n",
       "      <th>1</th>\n",
       "      <td>The product is really excellent although it re...</td>\n",
       "      <td>positive</td>\n",
       "    </tr>\n",
       "    <tr>\n",
       "      <th>2</th>\n",
       "      <td>Price is a very good choice in terms of perfor...</td>\n",
       "      <td>positive</td>\n",
       "    </tr>\n",
       "    <tr>\n",
       "      <th>3</th>\n",
       "      <td>Thanks to Amazon Turkey before the product I g...</td>\n",
       "      <td>positive</td>\n",
       "    </tr>\n",
       "    <tr>\n",
       "      <th>4</th>\n",
       "      <td>I got it very quickly It was very well preserv...</td>\n",
       "      <td>positive</td>\n",
       "    </tr>\n",
       "  </tbody>\n",
       "</table>\n",
       "</div>"
      ],
      "text/plain": [
       "                                             Reviews sentiment\n",
       "0  Very high quality and beautiful Amazon is more...  positive\n",
       "1  The product is really excellent although it re...  positive\n",
       "2  Price is a very good choice in terms of perfor...  positive\n",
       "3  Thanks to Amazon Turkey before the product I g...  positive\n",
       "4  I got it very quickly It was very well preserv...  positive"
      ]
     },
     "execution_count": 25,
     "metadata": {},
     "output_type": "execute_result"
    }
   ],
   "source": [
    "review_df = review_df[review_df['sentiment'] != 'neutral']\n",
    "\n",
    "print(review_df.shape)\n",
    "review_df.head(5)"
   ]
  },
  {
   "cell_type": "code",
   "execution_count": 27,
   "id": "78b4d430-6827-490e-862e-9df6a76906bc",
   "metadata": {},
   "outputs": [
    {
     "data": {
      "text/plain": [
       "positive    11615\n",
       "negative      614\n",
       "Name: sentiment, dtype: int64"
      ]
     },
     "execution_count": 27,
     "metadata": {},
     "output_type": "execute_result"
    }
   ],
   "source": [
    "review_df[\"sentiment\"].value_counts()"
   ]
  },
  {
   "cell_type": "code",
   "execution_count": 28,
   "id": "7558f7f1-6393-4aee-9010-f2499c77e5d2",
   "metadata": {},
   "outputs": [
    {
     "data": {
      "text/plain": [
       "(array([0, 0, 0, ..., 0, 0, 0], dtype=int64),\n",
       " Index(['positive', 'negative'], dtype='object'))"
      ]
     },
     "execution_count": 28,
     "metadata": {},
     "output_type": "execute_result"
    }
   ],
   "source": [
    "sentiment_label = review_df.sentiment.factorize()\n",
    "sentiment_label"
   ]
  },
  {
   "cell_type": "code",
   "execution_count": 30,
   "id": "35f7ad28-8e15-460d-9814-1476ae981d6f",
   "metadata": {},
   "outputs": [
    {
     "data": {
      "text/plain": [
       "array(['Very high quality and beautiful Amazon is more than a privilege',\n",
       "       'The product is really excellent although it really uses it intensively',\n",
       "       'Price is a very good choice in terms of performance If you are using a double line the high battery will be very useful The camera the screen and other features are already great I had it on Monday morning Great speed With 7 TL Cargo difference Quick Delivery I bought it for two thousand four hundred forty TL on May 5',\n",
       "       ...,\n",
       "       'Team fully sealed and in perfect condition recommended to 100 complies with what comes in the publication',\n",
       "       'I loved it better cost benefit',\n",
       "       'It is a wonderful device the photos are very visible as a professional machine high speed is already installed the cleaning folder that gives you more security quick recharge finally  It is worth the price offered Sensational'],\n",
       "      dtype=object)"
      ]
     },
     "execution_count": 30,
     "metadata": {},
     "output_type": "execute_result"
    }
   ],
   "source": [
    "reviews = review_df.Reviews.values\n",
    "reviews"
   ]
  },
  {
   "cell_type": "code",
   "execution_count": 31,
   "id": "270fd129-d901-4e28-bdcf-9f974d542e97",
   "metadata": {},
   "outputs": [],
   "source": [
    "df.Reviews=df.Reviews.astype(str)"
   ]
  },
  {
   "cell_type": "code",
   "execution_count": 32,
   "id": "b5f70c8d-97f3-446f-8b97-fb6ec3874458",
   "metadata": {},
   "outputs": [],
   "source": [
    "from tensorflow.keras.preprocessing.text import Tokenizer\n",
    "\n",
    "tokenizer = Tokenizer(num_words=5000)\n",
    "\n",
    "tokenizer.fit_on_texts(reviews)"
   ]
  },
  {
   "cell_type": "code",
   "execution_count": 33,
   "id": "56f74e87-3bfe-456a-bc88-e71d1a018ff8",
   "metadata": {},
   "outputs": [],
   "source": [
    "encoded_docs = tokenizer.texts_to_sequences(reviews)"
   ]
  },
  {
   "cell_type": "code",
   "execution_count": 34,
   "id": "f88a9096-ab50-45d1-a829-5c78afd10805",
   "metadata": {},
   "outputs": [],
   "source": [
    "from tensorflow.keras.preprocessing.sequence import pad_sequences\n",
    "\n",
    "padded_sequence = pad_sequences(encoded_docs, maxlen=200)"
   ]
  },
  {
   "cell_type": "code",
   "execution_count": 35,
   "id": "cbffa5d4-5858-4b4f-a96d-20c04efb70b1",
   "metadata": {},
   "outputs": [],
   "source": [
    "from tensorflow.keras.models import Sequential\n",
    "from tensorflow.keras.layers import LSTM,Dense, Dropout, SpatialDropout1D\n",
    "from tensorflow.keras.layers import Embedding\n"
   ]
  },
  {
   "cell_type": "code",
   "execution_count": 37,
   "id": "287bbd5c-1779-48e6-a650-f77180b466c4",
   "metadata": {},
   "outputs": [
    {
     "name": "stdout",
     "output_type": "stream",
     "text": [
      "Model: \"sequential_1\"\n",
      "_________________________________________________________________\n",
      " Layer (type)                Output Shape              Param #   \n",
      "=================================================================\n",
      " embedding (Embedding)       (None, 200, 32)           398016    \n",
      "                                                                 \n",
      " spatial_dropout1d (SpatialD  (None, 200, 32)          0         \n",
      " ropout1D)                                                       \n",
      "                                                                 \n",
      " lstm (LSTM)                 (None, 50)                16600     \n",
      "                                                                 \n",
      " dropout (Dropout)           (None, 50)                0         \n",
      "                                                                 \n",
      " dense (Dense)               (None, 1)                 51        \n",
      "                                                                 \n",
      "=================================================================\n",
      "Total params: 414,667\n",
      "Trainable params: 414,667\n",
      "Non-trainable params: 0\n",
      "_________________________________________________________________\n",
      "None\n"
     ]
    }
   ],
   "source": [
    "embedding_vector_length = 32\n",
    "model = Sequential()\n",
    "vocab_size = len(tokenizer.word_index) + 1\n",
    "model.add(Embedding(vocab_size, embedding_vector_length, input_length=200))\n",
    "model.add(SpatialDropout1D(0.25))\n",
    "model.add(LSTM(50, dropout=0.5, recurrent_dropout=0.5))\n",
    "model.add(Dropout(0.2))\n",
    "model.add(Dense(1, activation='sigmoid'))\n",
    "model.compile(loss='binary_crossentropy',optimizer='adam', metrics=['accuracy'])\n",
    "\n",
    "print(model.summary())"
   ]
  },
  {
   "cell_type": "code",
   "execution_count": 38,
   "id": "849d9cfa-92ac-47c7-9493-b170ff9b69d6",
   "metadata": {},
   "outputs": [
    {
     "name": "stdout",
     "output_type": "stream",
     "text": [
      "Epoch 1/5\n",
      "306/306 [==============================] - 43s 130ms/step - loss: 0.2206 - accuracy: 0.9477 - val_loss: 0.1922 - val_accuracy: 0.9485\n",
      "Epoch 2/5\n",
      "306/306 [==============================] - 39s 127ms/step - loss: 0.1512 - accuracy: 0.9507 - val_loss: 0.1514 - val_accuracy: 0.9501\n",
      "Epoch 3/5\n",
      "306/306 [==============================] - 39s 127ms/step - loss: 0.0973 - accuracy: 0.9650 - val_loss: 0.1494 - val_accuracy: 0.9538\n",
      "Epoch 4/5\n",
      "306/306 [==============================] - 39s 128ms/step - loss: 0.0751 - accuracy: 0.9728 - val_loss: 0.1498 - val_accuracy: 0.9583\n",
      "Epoch 5/5\n",
      "306/306 [==============================] - 39s 127ms/step - loss: 0.0639 - accuracy: 0.9758 - val_loss: 0.1712 - val_accuracy: 0.9579\n"
     ]
    }
   ],
   "source": [
    "history = model.fit(padded_sequence,sentiment_label[0],validation_split=0.2, epochs=5, batch_size=32)"
   ]
  },
  {
   "cell_type": "code",
   "execution_count": 39,
   "id": "0dd24f96-c1a6-4fa4-9b00-5953b2448061",
   "metadata": {},
   "outputs": [
    {
     "data": {
      "image/png": "[encoded data removed]",
      "text/plain": [
       "<Figure size 640x480 with 1 Axes>"
      ]
     },
     "metadata": {},
     "output_type": "display_data"
    },
    {
     "data": {
      "text/plain": [
       "<Figure size 640x480 with 0 Axes>"
      ]
     },
     "metadata": {},
     "output_type": "display_data"
    }
   ],
   "source": [
    "import matplotlib.pyplot as plt\n",
    "\n",
    "plt.plot(history.history['accuracy'], label='acc')\n",
    "plt.plot(history.history['val_accuracy'], label='val_acc')\n",
    "plt.legend()\n",
    "plt.show()\n",
    "\n",
    "plt.savefig(\"Accuracy plot.jpg\")"
   ]
  },
  {
   "cell_type": "code",
   "execution_count": 40,
   "id": "f5d4a7fa-ec78-491c-8bb0-9dad6b12d582",
   "metadata": {},
   "outputs": [
    {
     "data": {
      "image/png": "[encoded data removed]",
      "text/plain": [
       "<Figure size 640x480 with 1 Axes>"
      ]
     },
     "metadata": {},
     "output_type": "display_data"
    },
    {
     "data": {
      "text/plain": [
       "<Figure size 640x480 with 0 Axes>"
      ]
     },
     "metadata": {},
     "output_type": "display_data"
    }
   ],
   "source": [
    "plt.plot(history.history['loss'], label='loss')\n",
    "plt.plot(history.history['val_loss'], label='val_loss')\n",
    "\n",
    "plt.legend()\n",
    "plt.show()\n",
    "\n",
    "plt.savefig(\"Loss plt.jpg\")"
   ]
  },
  {
   "cell_type": "code",
   "execution_count": 41,
   "id": "b4630d1e-4b79-4131-8317-6e5746aadcd7",
   "metadata": {},
   "outputs": [
    {
     "name": "stdout",
     "output_type": "stream",
     "text": [
      "1/1 [==============================] - 0s 292ms/step\n",
      "Predicted label:  positive\n",
      "1/1 [==============================] - 0s 32ms/step\n",
      "Predicted label:  negative\n"
     ]
    }
   ],
   "source": [
    "def predict_sentiment(text):\n",
    "    tw = tokenizer.texts_to_sequences([text])\n",
    "    tw = pad_sequences(tw,maxlen=200)\n",
    "    prediction = int(model.predict(tw).round().item())\n",
    "    print(\"Predicted label: \", sentiment_label[1][prediction])\n",
    "\n",
    "\n",
    "test_sentence1 = \"I enjoyed my journey on this flight.\"\n",
    "predict_sentiment(test_sentence1)\n",
    "\n",
    "test_sentence2 = \"This is the worst flight experience of my life!\"\n",
    "predict_sentiment(test_sentence2)\n"
   ]
  },
  {
   "cell_type": "code",
   "execution_count": null,
   "id": "5e0efbf7-273a-4d27-95c8-e986909c767a",
   "metadata": {},
   "outputs": [],
   "source": []
  }
 ],
 "metadata": {
  "kernelspec": {
   "display_name": "Python 3 (ipykernel)",
   "language": "python",
   "name": "python3"
  },
  "language_info": {
   "codemirror_mode": {
    "name": "ipython",
    "version": 3
   },
   "file_extension": ".py",
   "mimetype": "text/x-python",
   "name": "python",
   "nbconvert_exporter": "python",
   "pygments_lexer": "ipython3",
   "version": "3.10.4"
  }
 },
 "nbformat": 4,
 "nbformat_minor": 5
}
