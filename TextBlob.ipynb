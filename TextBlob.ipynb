{
 "cells": [
  {
   "cell_type": "code",
   "execution_count": 1,
   "id": "aadb1196-940f-49e0-bffa-259eaaf9f10c",
   "metadata": {},
   "outputs": [],
   "source": [
    "import pandas as pd\n",
    "from warnings import filterwarnings\n",
    "filterwarnings('ignore')\n",
    "import matplotlib.pyplot as plt"
   ]
  },
  {
   "cell_type": "code",
   "execution_count": 2,
   "id": "68b49162-b2db-4870-bc19-0e8b3e76fe5e",
   "metadata": {},
   "outputs": [],
   "source": [
    "a=pd.read_excel(\"removed3.xlsx\")"
   ]
  },
  {
   "cell_type": "code",
   "execution_count": 3,
   "id": "1a922917-30fc-4dd8-8496-573e3fa62631",
   "metadata": {},
   "outputs": [
    {
     "data": {
      "text/html": [
       "<div>\n",
       "<style scoped>\n",
       "    .dataframe tbody tr th:only-of-type {\n",
       "        vertical-align: middle;\n",
       "    }\n",
       "\n",
       "    .dataframe tbody tr th {\n",
       "        vertical-align: top;\n",
       "    }\n",
       "\n",
       "    .dataframe thead th {\n",
       "        text-align: right;\n",
       "    }\n",
       "</style>\n",
       "<table border=\"1\" class=\"dataframe\">\n",
       "  <thead>\n",
       "    <tr style=\"text-align: right;\">\n",
       "      <th></th>\n",
       "      <th>rating</th>\n",
       "      <th>Reviews</th>\n",
       "    </tr>\n",
       "  </thead>\n",
       "  <tbody>\n",
       "    <tr>\n",
       "      <th>0</th>\n",
       "      <td>5</td>\n",
       "      <td>Very high quality and beautiful Amazon is more...</td>\n",
       "    </tr>\n",
       "    <tr>\n",
       "      <th>1</th>\n",
       "      <td>5</td>\n",
       "      <td>The product is really excellent although it re...</td>\n",
       "    </tr>\n",
       "    <tr>\n",
       "      <th>2</th>\n",
       "      <td>5</td>\n",
       "      <td>Price is a very good choice in terms of perfor...</td>\n",
       "    </tr>\n",
       "    <tr>\n",
       "      <th>3</th>\n",
       "      <td>5</td>\n",
       "      <td>Thanks to Amazon Turkey before the product I g...</td>\n",
       "    </tr>\n",
       "    <tr>\n",
       "      <th>4</th>\n",
       "      <td>5</td>\n",
       "      <td>I got it very quickly It was very well preserv...</td>\n",
       "    </tr>\n",
       "    <tr>\n",
       "      <th>...</th>\n",
       "      <td>...</td>\n",
       "      <td>...</td>\n",
       "    </tr>\n",
       "    <tr>\n",
       "      <th>13074</th>\n",
       "      <td>4</td>\n",
       "      <td>Good price and quality</td>\n",
       "    </tr>\n",
       "    <tr>\n",
       "      <th>13075</th>\n",
       "      <td>5</td>\n",
       "      <td>It is an excellent product It arrived complete...</td>\n",
       "    </tr>\n",
       "    <tr>\n",
       "      <th>13076</th>\n",
       "      <td>5</td>\n",
       "      <td>Team fully sealed and in perfect condition rec...</td>\n",
       "    </tr>\n",
       "    <tr>\n",
       "      <th>13077</th>\n",
       "      <td>5</td>\n",
       "      <td>I loved it better cost benefit</td>\n",
       "    </tr>\n",
       "    <tr>\n",
       "      <th>13078</th>\n",
       "      <td>5</td>\n",
       "      <td>It is a wonderful device the photos are very v...</td>\n",
       "    </tr>\n",
       "  </tbody>\n",
       "</table>\n",
       "<p>13079 rows × 2 columns</p>\n",
       "</div>"
      ],
      "text/plain": [
       "       rating                                            Reviews\n",
       "0           5  Very high quality and beautiful Amazon is more...\n",
       "1           5  The product is really excellent although it re...\n",
       "2           5  Price is a very good choice in terms of perfor...\n",
       "3           5  Thanks to Amazon Turkey before the product I g...\n",
       "4           5  I got it very quickly It was very well preserv...\n",
       "...       ...                                                ...\n",
       "13074       4                             Good price and quality\n",
       "13075       5  It is an excellent product It arrived complete...\n",
       "13076       5  Team fully sealed and in perfect condition rec...\n",
       "13077       5                     I loved it better cost benefit\n",
       "13078       5  It is a wonderful device the photos are very v...\n",
       "\n",
       "[13079 rows x 2 columns]"
      ]
     },
     "execution_count": 3,
     "metadata": {},
     "output_type": "execute_result"
    }
   ],
   "source": [
    "a"
   ]
  },
  {
   "cell_type": "code",
   "execution_count": 4,
   "id": "9aff2795-8b8c-4f5f-b554-d3eeb1cb20d6",
   "metadata": {},
   "outputs": [],
   "source": [
    "from textblob import TextBlob\n",
    "from textblob.classifiers import NaiveBayesClassifier"
   ]
  },
  {
   "cell_type": "code",
   "execution_count": 5,
   "id": "4b47cc9c-c587-42ad-8d9e-d2c7eb7c8a61",
   "metadata": {},
   "outputs": [],
   "source": [
    "a[\"sentiment\"]=a[\"Reviews\"].apply(lambda x: TextBlob(str(x).lower()).sentiment.polarity) "
   ]
  },
  {
   "cell_type": "code",
   "execution_count": 6,
   "id": "06e11de2-4874-4ce2-bdb8-3394051c2f0a",
   "metadata": {},
   "outputs": [
    {
     "data": {
      "text/html": [
       "<div>\n",
       "<style scoped>\n",
       "    .dataframe tbody tr th:only-of-type {\n",
       "        vertical-align: middle;\n",
       "    }\n",
       "\n",
       "    .dataframe tbody tr th {\n",
       "        vertical-align: top;\n",
       "    }\n",
       "\n",
       "    .dataframe thead th {\n",
       "        text-align: right;\n",
       "    }\n",
       "</style>\n",
       "<table border=\"1\" class=\"dataframe\">\n",
       "  <thead>\n",
       "    <tr style=\"text-align: right;\">\n",
       "      <th></th>\n",
       "      <th>rating</th>\n",
       "      <th>Reviews</th>\n",
       "      <th>sentiment</th>\n",
       "    </tr>\n",
       "  </thead>\n",
       "  <tbody>\n",
       "    <tr>\n",
       "      <th>0</th>\n",
       "      <td>5</td>\n",
       "      <td>Very high quality and beautiful Amazon is more...</td>\n",
       "      <td>0.519333</td>\n",
       "    </tr>\n",
       "    <tr>\n",
       "      <th>1</th>\n",
       "      <td>5</td>\n",
       "      <td>The product is really excellent although it re...</td>\n",
       "      <td>0.600000</td>\n",
       "    </tr>\n",
       "    <tr>\n",
       "      <th>2</th>\n",
       "      <td>5</td>\n",
       "      <td>Price is a very good choice in terms of perfor...</td>\n",
       "      <td>0.408542</td>\n",
       "    </tr>\n",
       "    <tr>\n",
       "      <th>3</th>\n",
       "      <td>5</td>\n",
       "      <td>Thanks to Amazon Turkey before the product I g...</td>\n",
       "      <td>0.600000</td>\n",
       "    </tr>\n",
       "    <tr>\n",
       "      <th>4</th>\n",
       "      <td>5</td>\n",
       "      <td>I got it very quickly It was very well preserv...</td>\n",
       "      <td>0.316667</td>\n",
       "    </tr>\n",
       "    <tr>\n",
       "      <th>...</th>\n",
       "      <td>...</td>\n",
       "      <td>...</td>\n",
       "      <td>...</td>\n",
       "    </tr>\n",
       "    <tr>\n",
       "      <th>13074</th>\n",
       "      <td>4</td>\n",
       "      <td>Good price and quality</td>\n",
       "      <td>0.700000</td>\n",
       "    </tr>\n",
       "    <tr>\n",
       "      <th>13075</th>\n",
       "      <td>5</td>\n",
       "      <td>It is an excellent product It arrived complete...</td>\n",
       "      <td>0.449074</td>\n",
       "    </tr>\n",
       "    <tr>\n",
       "      <th>13076</th>\n",
       "      <td>5</td>\n",
       "      <td>Team fully sealed and in perfect condition rec...</td>\n",
       "      <td>1.000000</td>\n",
       "    </tr>\n",
       "    <tr>\n",
       "      <th>13077</th>\n",
       "      <td>5</td>\n",
       "      <td>I loved it better cost benefit</td>\n",
       "      <td>0.600000</td>\n",
       "    </tr>\n",
       "    <tr>\n",
       "      <th>13078</th>\n",
       "      <td>5</td>\n",
       "      <td>It is a wonderful device the photos are very v...</td>\n",
       "      <td>0.407500</td>\n",
       "    </tr>\n",
       "  </tbody>\n",
       "</table>\n",
       "<p>13079 rows × 3 columns</p>\n",
       "</div>"
      ],
      "text/plain": [
       "       rating                                            Reviews  sentiment\n",
       "0           5  Very high quality and beautiful Amazon is more...   0.519333\n",
       "1           5  The product is really excellent although it re...   0.600000\n",
       "2           5  Price is a very good choice in terms of perfor...   0.408542\n",
       "3           5  Thanks to Amazon Turkey before the product I g...   0.600000\n",
       "4           5  I got it very quickly It was very well preserv...   0.316667\n",
       "...       ...                                                ...        ...\n",
       "13074       4                             Good price and quality   0.700000\n",
       "13075       5  It is an excellent product It arrived complete...   0.449074\n",
       "13076       5  Team fully sealed and in perfect condition rec...   1.000000\n",
       "13077       5                     I loved it better cost benefit   0.600000\n",
       "13078       5  It is a wonderful device the photos are very v...   0.407500\n",
       "\n",
       "[13079 rows x 3 columns]"
      ]
     },
     "execution_count": 6,
     "metadata": {},
     "output_type": "execute_result"
    }
   ],
   "source": [
    "a"
   ]
  },
  {
   "cell_type": "code",
   "execution_count": 7,
   "id": "148fe3ce-75a9-46a5-9c18-c4d1e4679215",
   "metadata": {},
   "outputs": [],
   "source": [
    "for i in a[\"sentiment\"]:\n",
    "    if i <0:\n",
    "        a[\"sentiment\"].replace(to_replace=i,value=\"0\",inplace=True)\n",
    "    elif i>0:\n",
    "        a[\"sentiment\"].replace(to_replace=i,value=\"1\",inplace=True)\n",
    "    else:\n",
    "        a[\"sentiment\"].replace(to_replace=i,value=\"neutral\",inplace=True)"
   ]
  },
  {
   "cell_type": "code",
   "execution_count": 8,
   "id": "1a06b6d4-4ffb-499f-aa1d-69df6dd08ce7",
   "metadata": {},
   "outputs": [
    {
     "data": {
      "text/html": [
       "<div>\n",
       "<style scoped>\n",
       "    .dataframe tbody tr th:only-of-type {\n",
       "        vertical-align: middle;\n",
       "    }\n",
       "\n",
       "    .dataframe tbody tr th {\n",
       "        vertical-align: top;\n",
       "    }\n",
       "\n",
       "    .dataframe thead th {\n",
       "        text-align: right;\n",
       "    }\n",
       "</style>\n",
       "<table border=\"1\" class=\"dataframe\">\n",
       "  <thead>\n",
       "    <tr style=\"text-align: right;\">\n",
       "      <th></th>\n",
       "      <th>rating</th>\n",
       "      <th>Reviews</th>\n",
       "      <th>sentiment</th>\n",
       "    </tr>\n",
       "  </thead>\n",
       "  <tbody>\n",
       "    <tr>\n",
       "      <th>0</th>\n",
       "      <td>5</td>\n",
       "      <td>Very high quality and beautiful Amazon is more...</td>\n",
       "      <td>1</td>\n",
       "    </tr>\n",
       "    <tr>\n",
       "      <th>1</th>\n",
       "      <td>5</td>\n",
       "      <td>The product is really excellent although it re...</td>\n",
       "      <td>1</td>\n",
       "    </tr>\n",
       "    <tr>\n",
       "      <th>2</th>\n",
       "      <td>5</td>\n",
       "      <td>Price is a very good choice in terms of perfor...</td>\n",
       "      <td>1</td>\n",
       "    </tr>\n",
       "    <tr>\n",
       "      <th>3</th>\n",
       "      <td>5</td>\n",
       "      <td>Thanks to Amazon Turkey before the product I g...</td>\n",
       "      <td>1</td>\n",
       "    </tr>\n",
       "    <tr>\n",
       "      <th>4</th>\n",
       "      <td>5</td>\n",
       "      <td>I got it very quickly It was very well preserv...</td>\n",
       "      <td>1</td>\n",
       "    </tr>\n",
       "    <tr>\n",
       "      <th>...</th>\n",
       "      <td>...</td>\n",
       "      <td>...</td>\n",
       "      <td>...</td>\n",
       "    </tr>\n",
       "    <tr>\n",
       "      <th>13074</th>\n",
       "      <td>4</td>\n",
       "      <td>Good price and quality</td>\n",
       "      <td>1</td>\n",
       "    </tr>\n",
       "    <tr>\n",
       "      <th>13075</th>\n",
       "      <td>5</td>\n",
       "      <td>It is an excellent product It arrived complete...</td>\n",
       "      <td>1</td>\n",
       "    </tr>\n",
       "    <tr>\n",
       "      <th>13076</th>\n",
       "      <td>5</td>\n",
       "      <td>Team fully sealed and in perfect condition rec...</td>\n",
       "      <td>1</td>\n",
       "    </tr>\n",
       "    <tr>\n",
       "      <th>13077</th>\n",
       "      <td>5</td>\n",
       "      <td>I loved it better cost benefit</td>\n",
       "      <td>1</td>\n",
       "    </tr>\n",
       "    <tr>\n",
       "      <th>13078</th>\n",
       "      <td>5</td>\n",
       "      <td>It is a wonderful device the photos are very v...</td>\n",
       "      <td>1</td>\n",
       "    </tr>\n",
       "  </tbody>\n",
       "</table>\n",
       "<p>13079 rows × 3 columns</p>\n",
       "</div>"
      ],
      "text/plain": [
       "       rating                                            Reviews sentiment\n",
       "0           5  Very high quality and beautiful Amazon is more...         1\n",
       "1           5  The product is really excellent although it re...         1\n",
       "2           5  Price is a very good choice in terms of perfor...         1\n",
       "3           5  Thanks to Amazon Turkey before the product I g...         1\n",
       "4           5  I got it very quickly It was very well preserv...         1\n",
       "...       ...                                                ...       ...\n",
       "13074       4                             Good price and quality         1\n",
       "13075       5  It is an excellent product It arrived complete...         1\n",
       "13076       5  Team fully sealed and in perfect condition rec...         1\n",
       "13077       5                     I loved it better cost benefit         1\n",
       "13078       5  It is a wonderful device the photos are very v...         1\n",
       "\n",
       "[13079 rows x 3 columns]"
      ]
     },
     "execution_count": 8,
     "metadata": {},
     "output_type": "execute_result"
    }
   ],
   "source": [
    "a"
   ]
  },
  {
   "cell_type": "code",
   "execution_count": 9,
   "id": "1fe45ed0-ac62-4a9e-8350-1dbac9203ac5",
   "metadata": {},
   "outputs": [
    {
     "data": {
      "text/plain": [
       "1          11615\n",
       "neutral      850\n",
       "0            614\n",
       "Name: sentiment, dtype: int64"
      ]
     },
     "execution_count": 9,
     "metadata": {},
     "output_type": "execute_result"
    }
   ],
   "source": [
    "a[\"sentiment\"].value_counts()"
   ]
  },
  {
   "cell_type": "code",
   "execution_count": 10,
   "id": "9b000601-fb12-4963-88e5-bd17f63dc9fc",
   "metadata": {},
   "outputs": [
    {
     "data": {
      "text/plain": [
       "<AxesSubplot: >"
      ]
     },
     "execution_count": 10,
     "metadata": {},
     "output_type": "execute_result"
    },
    {
     "data": {
      "image/png": "[encoded data removed]",
      "text/plain": [
       "<Figure size 640x480 with 1 Axes>"
      ]
     },
     "metadata": {},
     "output_type": "display_data"
    }
   ],
   "source": [
    "a[\"sentiment\"].value_counts().plot(kind=\"bar\")"
   ]
  },
  {
   "cell_type": "code",
   "execution_count": 11,
   "id": "cd62979b-c340-436d-b572-3a41b7bc29cc",
   "metadata": {},
   "outputs": [],
   "source": [
    "a.to_excel(\"datas2.xlsx\")"
   ]
  },
  {
   "cell_type": "code",
   "execution_count": null,
   "id": "39b00a35-4dfd-45cc-ae6e-fe18fe0d2071",
   "metadata": {},
   "outputs": [],
   "source": []
  }
 ],
 "metadata": {
  "kernelspec": {
   "display_name": "Python 3 (ipykernel)",
   "language": "python",
   "name": "python3"
  },
  "language_info": {
   "codemirror_mode": {
    "name": "ipython",
    "version": 3
   },
   "file_extension": ".py",
   "mimetype": "text/x-python",
   "name": "python",
   "nbconvert_exporter": "python",
   "pygments_lexer": "ipython3",
   "version": "3.10.4"
  }
 },
 "nbformat": 4,
 "nbformat_minor": 5
}
